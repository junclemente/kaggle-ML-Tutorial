{
 "cells": [
  {
   "cell_type": "markdown",
   "metadata": {},
   "source": [
    "# Notes from the tutorial for \"Introduction to Machine Learning\" on kaggle\n",
    "https://www.kaggle.com/learn/intro-to-machine-learning\n",
    "\n",
    "https://www.kaggle.com/code/dansbecker/model-validation"
   ]
  },
  {
   "cell_type": "markdown",
   "metadata": {},
   "source": [
    "## Model Validation\n",
    "\n",
    "Model validation is a way to measure the quality of the model. One way to measure model quality is to determin its predictive accuracy.  \n",
    "\n",
    "First, summarize the model quality into an understandable way.\n",
    "One way of summarizing model quality is Mean Absolute Error (MAE)\n",
    "\n",
    "Prediction error: \n",
    "error = actual - predicted\n",
    "\n",
    "With MAE, we take the absolute value of each error and take the average of those |errors|. On average, predictions are off by ~ X. "
   ]
  },
  {
   "cell_type": "code",
   "execution_count": null,
   "metadata": {},
   "outputs": [],
   "source": [
    "# Data Loading Code Hidden Here\n",
    "import pandas as pd\n",
    "\n",
    "# Load data\n",
    "melbourne_file_path = './melbourne-housing-snapshot/melb_data.csv'\n",
    "melbourne_data = pd.read_csv(melbourne_file_path) \n",
    "# Filter rows with missing price values\n",
    "filtered_melbourne_data = melbourne_data.dropna(axis=0)\n",
    "# Choose target and features\n",
    "y = filtered_melbourne_data.Price\n",
    "melbourne_features = ['Rooms', 'Bathroom', 'Landsize', 'BuildingArea', \n",
    "                        'YearBuilt', 'Lattitude', 'Longtitude']\n",
    "X = filtered_melbourne_data[melbourne_features]\n",
    "\n",
    "from sklearn.tree import DecisionTreeRegressor\n",
    "# Define model\n",
    "melbourne_model = DecisionTreeRegressor()\n",
    "# Fit model\n",
    "melbourne_model.fit(X, y)"
   ]
  },
  {
   "cell_type": "code",
   "execution_count": null,
   "metadata": {},
   "outputs": [],
   "source": [
    "# Calculate the mean absolute error\n",
    "from sklearn.metrics import mean_absolute_error\n",
    "\n",
    "predicted_home_prices = melbourne_model.predict(X)\n",
    "mean_absolute_error(y, predicted_home_prices)"
   ]
  },
  {
   "cell_type": "markdown",
   "metadata": {},
   "source": [
    "### \"In-Sample\" Scores\n",
    "The previous example measured is called \"in-sample\" score - a single \"sample\" of houses for both building and evaluating the model. \n",
    "\n",
    "Training and testing with the same data might not allow the model to predict accurately when given new data. Such as if the training data shows that \"green door\" houses have a higher value. If new data doesn't follow this pattern, then model will be very inaccurate. \n",
    "\n",
    "Performance should be measure on data not used to build the model. Therefore, excluding some data from the model-building process is the most straightforward way. This is called \"validation data\". \n",
    "\n",
    "The function \"train_test_split\" from scikit-learn breaks up data into two pieces. Some data will be used to train the model, and the rest will be used as validation data to calculate MAE. "
   ]
  },
  {
   "cell_type": "code",
   "execution_count": null,
   "metadata": {},
   "outputs": [],
   "source": [
    "from sklearn.model_selection import train_test_split\n",
    "\n",
    "# split data into training and validation data\n",
    "train_X, val_X, train_y, val_y = train_test_split(X, y, random_state = 0)\n",
    "\n",
    "# Define model\n",
    "melbourne_model = DecisionTreeRegressor()\n",
    "\n",
    "# Fit model\n",
    "melbourne_model.fit(train_X, train_y)\n",
    "\n",
    "# Get predicted prices on validation data\n",
    "val_predictions = melbourne_model.predict(val_X)\n",
    "print(mean_absolute_error(val_y, val_predictions))"
   ]
  }
 ],
 "metadata": {
  "kernelspec": {
   "display_name": "data_science_Py3-12-0",
   "language": "python",
   "name": "python3"
  },
  "language_info": {
   "codemirror_mode": {
    "name": "ipython",
    "version": 3
   },
   "file_extension": ".py",
   "mimetype": "text/x-python",
   "name": "python",
   "nbconvert_exporter": "python",
   "pygments_lexer": "ipython3",
   "version": "3.10.13"
  }
 },
 "nbformat": 4,
 "nbformat_minor": 2
}
