{
 "cells": [
  {
   "cell_type": "markdown",
   "metadata": {},
   "source": [
    "## Intermediate Machine Learning - kaggle\n",
    "\n",
    "https://www.kaggle.com/learn/intermediate-machine-learning\n",
    "\n",
    "### Data Leakage\n",
    "\n",
    "https://www.kaggle.com/code/alexisbcook/data-leakage\n",
    "\n",
    "#### Introduction\n",
    "What is data leakage? \n",
    "Leakage happens when trianing data contains information about the target, but similar data will not be available when the model is used for prediction. This results in high performance for training but poor performance in production. \n",
    "\n",
    "Two types of leakage: \n",
    "1. target leakage\n",
    "2. train-test contamination\n",
    "\n",
    "#### Target Leakage\n",
    "**Target Leakage** happens when predictors include data that will not be available at the time predictions are made. This can be thought of in terms of *timing or chronological order* that data becomes available. \n",
    "\n",
    "Example of trying to predict who will get sick with pneumonia: \n",
    "\n",
    "| got_pneumonia | age | weight | male | took_antibiotic_medicine | ... |\n",
    "| --- | --- | --- | --- | --- | --- |\n",
    "| False | 65 | 100 | False | False | ... |\n",
    "| False | 72 | 130 | True | False | ... | \n",
    "| True | 58 | 100 | False | True | ... |\n",
    "\n",
    "Ppl take antiobiotics *after* getting pneumonia to recover. The raw data shows a strong relationship between those columns. But, `took_antibiotic_medicine` is frequently changed *after* the value for `got_penumonia` is determined. This is **target leakage**. This model will be very inaccurate when deployed because patients who will get pneumonia will not have received antibiotics yet when predictions need to be made about their future health. \n",
    "\n",
    "To prevent this type of data leakage, any variable updated (or created) after the target value is realized should be excluded. \n",
    "\n",
    "#### Train-Test Contamination\n",
    "\n",
    "\n",
    "\n",
    "\n"
   ]
  },
  {
   "cell_type": "code",
   "execution_count": null,
   "metadata": {},
   "outputs": [],
   "source": []
  }
 ],
 "metadata": {
  "language_info": {
   "name": "python"
  }
 },
 "nbformat": 4,
 "nbformat_minor": 2
}
