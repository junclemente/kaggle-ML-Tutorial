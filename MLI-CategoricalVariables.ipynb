{
 "cells": [
  {
   "cell_type": "markdown",
   "metadata": {},
   "source": [
    "## Intermediate Machine Learning\n",
    "\n",
    "Categorical Variables\n",
    "\n",
    "https://www.kaggle.com/code/alexisbcook/categorical-variables\n",
    "\n",
    "A **categorical variable** takes only a limited number of values. These require preprocessing before plugging them into an ML model.\n",
    "- Examples:\n",
    "    - Never, Rarely, Most days, Every day\n",
    "    - Honda, Toyota, Ford\n",
    "\n",
    "### Three Approaches\n",
    "\n",
    "#### 1. Drop Categorical Variables\n",
    "Easiest approach is to remove categorical variables from the dataset. This is only useful if the columns did not contain useful information. \n",
    "\n",
    "#### 2. Ordinal Encoding\n",
    "**Ordinal encoding** assigns a unique value to a different integer. \n",
    "\n",
    "#### 3. One-Hot Encoding"
   ]
  },
  {
   "cell_type": "code",
   "execution_count": null,
   "metadata": {},
   "outputs": [],
   "source": []
  }
 ],
 "metadata": {
  "language_info": {
   "name": "python"
  }
 },
 "nbformat": 4,
 "nbformat_minor": 2
}
